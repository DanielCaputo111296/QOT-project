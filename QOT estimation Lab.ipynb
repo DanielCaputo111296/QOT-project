{
 "cells": [
  {
   "cell_type": "code",
   "execution_count": 1,
   "id": "44496ed7",
   "metadata": {},
   "outputs": [],
   "source": [
    "import numpy as np\n",
    "import os\n",
    "import math\n",
    "import matplotlib.pyplot as plt\n",
    "import time\n",
    "import ast\n",
    "import random\n",
    "import pandas as pd\n",
    "from sklearn.neural_network import MLPRegressor\n",
    "from sklearn.model_selection import KFold, train_test_split\n",
    "from sklearn.preprocessing import StandardScaler\n",
    "from sklearn.metrics import max_error, mean_squared_error"
   ]
  },
  {
   "cell_type": "code",
   "execution_count": 2,
   "id": "dedcbad0",
   "metadata": {},
   "outputs": [],
   "source": [
    "import csv\n",
    "with open(\"C:/Users/danie/Downloads/SNR_dataset_0.2dB_per_km.txt\", 'r') as in_file:\n",
    "    stripped = (line.strip() for line in in_file)\n",
    "    lines = (line.split(\";\") for line in stripped if line)\n",
    "    with open(\"C:/Users/danie/Downloads/SNR_dataset_0.2dB_per_km.csv\", 'w') as out_file:\n",
    "        writer = csv.writer(out_file)\n",
    "        writer.writerow(('span', 'interfers', 'deltaf', 'snr'))\n",
    "        writer.writerows(lines)"
   ]
  },
  {
   "cell_type": "code",
   "execution_count": 3,
   "id": "4085c21f",
   "metadata": {},
   "outputs": [
    {
     "data": {
      "text/html": [
       "<div>\n",
       "<style scoped>\n",
       "    .dataframe tbody tr th:only-of-type {\n",
       "        vertical-align: middle;\n",
       "    }\n",
       "\n",
       "    .dataframe tbody tr th {\n",
       "        vertical-align: top;\n",
       "    }\n",
       "\n",
       "    .dataframe thead th {\n",
       "        text-align: right;\n",
       "    }\n",
       "</style>\n",
       "<table border=\"1\" class=\"dataframe\">\n",
       "  <thead>\n",
       "    <tr style=\"text-align: right;\">\n",
       "      <th></th>\n",
       "      <th>span</th>\n",
       "      <th>interfers</th>\n",
       "      <th>deltaf</th>\n",
       "      <th>snr</th>\n",
       "    </tr>\n",
       "  </thead>\n",
       "  <tbody>\n",
       "    <tr>\n",
       "      <th>0</th>\n",
       "      <td>60 60 60 60 60</td>\n",
       "      <td>5</td>\n",
       "      <td>50.0129</td>\n",
       "      <td>21.4016</td>\n",
       "    </tr>\n",
       "    <tr>\n",
       "      <th>1</th>\n",
       "      <td>70 70 60</td>\n",
       "      <td>14</td>\n",
       "      <td>50.0129</td>\n",
       "      <td>21.7621</td>\n",
       "    </tr>\n",
       "    <tr>\n",
       "      <th>2</th>\n",
       "      <td>50 50 50 50 50 50 50 50 50 50 50 50 50 50 50</td>\n",
       "      <td>17</td>\n",
       "      <td>50.0129</td>\n",
       "      <td>19.3127</td>\n",
       "    </tr>\n",
       "    <tr>\n",
       "      <th>3</th>\n",
       "      <td>70 70 70 70 70</td>\n",
       "      <td>29</td>\n",
       "      <td>50.0129</td>\n",
       "      <td>21.0628</td>\n",
       "    </tr>\n",
       "    <tr>\n",
       "      <th>4</th>\n",
       "      <td>70 70 70 70 70</td>\n",
       "      <td>9</td>\n",
       "      <td>50.0129</td>\n",
       "      <td>21.2568</td>\n",
       "    </tr>\n",
       "  </tbody>\n",
       "</table>\n",
       "</div>"
      ],
      "text/plain": [
       "                                           span  interfers   deltaf      snr\n",
       "0                                60 60 60 60 60          5  50.0129  21.4016\n",
       "1                                      70 70 60         14  50.0129  21.7621\n",
       "2  50 50 50 50 50 50 50 50 50 50 50 50 50 50 50         17  50.0129  19.3127\n",
       "3                                70 70 70 70 70         29  50.0129  21.0628\n",
       "4                                70 70 70 70 70          9  50.0129  21.2568"
      ]
     },
     "execution_count": 3,
     "metadata": {},
     "output_type": "execute_result"
    }
   ],
   "source": [
    "df=pd.read_csv(\"C:/Users/danie/Downloads/SNR_dataset_0.2dB_per_km.csv\")\n",
    "df.head(5)"
   ]
  },
  {
   "cell_type": "code",
   "execution_count": 4,
   "id": "48ed60b0",
   "metadata": {},
   "outputs": [],
   "source": [
    "def read_dataset(df):\n",
    "    span_list=df[\"span\"]\n",
    "    interfers_list=df[\"interfers\"]\n",
    "    snr_list=df[\"snr\"]\n",
    "    return span_list,interfers_list,snr_list\n",
    "    \n",
    "    "
   ]
  },
  {
   "cell_type": "code",
   "execution_count": 5,
   "id": "67a0fd41",
   "metadata": {},
   "outputs": [],
   "source": [
    "[span_list,interfers_list,snr_list]=read_dataset(df)"
   ]
  },
  {
   "cell_type": "markdown",
   "id": "510903ef",
   "metadata": {},
   "source": [
    "Checking dimension of return value"
   ]
  },
  {
   "cell_type": "code",
   "execution_count": 6,
   "id": "6c31d41b",
   "metadata": {},
   "outputs": [
    {
     "name": "stdout",
     "output_type": "stream",
     "text": [
      "1034\n",
      "1034\n",
      "1034\n"
     ]
    }
   ],
   "source": [
    "print(len(span_list))\n",
    "print(len(interfers_list))\n",
    "print(len(snr_list))"
   ]
  },
  {
   "cell_type": "markdown",
   "id": "7dc92f1c",
   "metadata": {},
   "source": [
    "Compute mean and variance"
   ]
  },
  {
   "cell_type": "code",
   "execution_count": 7,
   "id": "8e2ffbc6",
   "metadata": {},
   "outputs": [],
   "source": [
    "def media(l):\n",
    "    l_mean=l.mean()\n",
    "    return l_mean\n",
    "def varianza(l):\n",
    "    l_var=l.var()\n",
    "    return l_var\n",
    "def deviation_standard(l):\n",
    "    l_std=l.std()\n",
    "    return l_std\n",
    "    \n",
    "    "
   ]
  },
  {
   "cell_type": "markdown",
   "id": "b8e87f5e",
   "metadata": {},
   "source": [
    "Number of interferers"
   ]
  },
  {
   "cell_type": "code",
   "execution_count": 8,
   "id": "c507bb75",
   "metadata": {},
   "outputs": [
    {
     "name": "stdout",
     "output_type": "stream",
     "text": [
      "Number of Interfers:\n",
      "\n",
      "Mean 40.91295938104449\n",
      "Variance 232.9565985907977\n",
      "Deviation Standard 15.262915795836578\n"
     ]
    }
   ],
   "source": [
    "[inter_mean,interf_var,inter_std]=[media(interfers_list),varianza(interfers_list),deviation_standard(interfers_list)]\n",
    "print(\"Number of Interfers:\\n\")\n",
    "print(\"Mean\",inter_mean)\n",
    "print(\"Variance\",interf_var)\n",
    "print(\"Deviation Standard\",inter_std)"
   ]
  },
  {
   "cell_type": "markdown",
   "id": "522efb61",
   "metadata": {},
   "source": [
    "SNR"
   ]
  },
  {
   "cell_type": "code",
   "execution_count": 9,
   "id": "a29707e5",
   "metadata": {},
   "outputs": [],
   "source": [
    "[SNR_mean,SNR_var,SNR_std]=[media(snr_list),varianza(snr_list),deviation_standard(snr_list)]"
   ]
  },
  {
   "cell_type": "code",
   "execution_count": 10,
   "id": "686009bc",
   "metadata": {},
   "outputs": [
    {
     "name": "stdout",
     "output_type": "stream",
     "text": [
      "SNR:\n",
      "\n",
      "Mean 18.511346131528047\n",
      "Variance 4.25697372908957\n",
      "Deviation Standard 2.0632434972851774\n"
     ]
    }
   ],
   "source": [
    "print(\"SNR:\\n\")\n",
    "print(\"Mean\",SNR_mean)\n",
    "print(\"Variance\",SNR_var)\n",
    "print(\"Deviation Standard\",SNR_std)"
   ]
  },
  {
   "cell_type": "code",
   "execution_count": 11,
   "id": "fd70a064",
   "metadata": {},
   "outputs": [
    {
     "name": "stderr",
     "output_type": "stream",
     "text": [
      "C:\\Users\\danie\\AppData\\Local\\Temp\\ipykernel_10872\\1981901896.py:4: SettingWithCopyWarning: \n",
      "A value is trying to be set on a copy of a slice from a DataFrame\n",
      "\n",
      "See the caveats in the documentation: https://pandas.pydata.org/pandas-docs/stable/user_guide/indexing.html#returning-a-view-versus-a-copy\n",
      "  span_list[i]=np.fromstring(span_list[i],dtype=int,sep=' ')\n"
     ]
    }
   ],
   "source": [
    "r=[]\n",
    "lightpath_len=[]\n",
    "for i in range(len(span_list)):\n",
    "    span_list[i]=np.fromstring(span_list[i],dtype=int,sep=' ')\n",
    "    r.append(len(span_list[i]))\n",
    "    lightpath_len.append(sum(span_list[i]))"
   ]
  },
  {
   "cell_type": "markdown",
   "id": "b10d0aff",
   "metadata": {},
   "source": [
    "Metrics for Number of spans"
   ]
  },
  {
   "cell_type": "code",
   "execution_count": 12,
   "id": "5d6f0d01",
   "metadata": {},
   "outputs": [
    {
     "name": "stdout",
     "output_type": "stream",
     "text": [
      "Number of Spans:\n",
      "\n",
      "Mean 15.828820116054159\n",
      "Variance 243.2289179502336\n",
      "Deviation Standard 15.595798086351131\n"
     ]
    }
   ],
   "source": [
    "span_array=np.array(r)\n",
    "ligth_array=np.array(lightpath_len)\n",
    "[span_mean,span_var,span_std]=[media(span_array),varianza(span_array),deviation_standard(span_array)]\n",
    "print(\"Number of Spans:\\n\")\n",
    "print(\"Mean\",span_mean)\n",
    "print(\"Variance\",span_var)\n",
    "print(\"Deviation Standard\",span_std)"
   ]
  },
  {
   "cell_type": "markdown",
   "id": "33673ea3",
   "metadata": {},
   "source": [
    "Metrics for Ligthpath length"
   ]
  },
  {
   "cell_type": "code",
   "execution_count": 13,
   "id": "5e72ebb9",
   "metadata": {},
   "outputs": [
    {
     "name": "stdout",
     "output_type": "stream",
     "text": [
      "Lightpath length:\n",
      "\n",
      "Mean 15.828820116054159\n",
      "Variance 243.2289179502336\n",
      "Deviation Standard 15.595798086351131\n"
     ]
    }
   ],
   "source": [
    "[lightpath_mean,lightpath_var,lightpath_std]=[media(ligth_array),varianza(ligth_array),deviation_standard(ligth_array)]\n",
    "print(\"Lightpath length:\\n\")\n",
    "print(\"Mean\",span_mean)\n",
    "print(\"Variance\",span_var)\n",
    "print(\"Deviation Standard\",span_std)"
   ]
  },
  {
   "cell_type": "markdown",
   "id": "3622ff6f",
   "metadata": {},
   "source": [
    "# TASK 2"
   ]
  },
  {
   "cell_type": "code",
   "execution_count": 14,
   "id": "fce5eef7",
   "metadata": {},
   "outputs": [
    {
     "data": {
      "text/plain": [
       "Text(0, 0.5, 'SNR,dB')"
      ]
     },
     "execution_count": 14,
     "metadata": {},
     "output_type": "execute_result"
    },
    {
     "data": {
      "image/png": "[encoded data removed]",
      "text/plain": [
       "<Figure size 640x480 with 1 Axes>"
      ]
     },
     "metadata": {},
     "output_type": "display_data"
    }
   ],
   "source": [
    "plt.grid()\n",
    "plt.plot(df[\"interfers\"],df[\"snr\"], 'bo')\n",
    "plt.xlabel(\"Number of interfers\")\n",
    "plt.ylabel(\"SNR,dB\")"
   ]
  },
  {
   "cell_type": "code",
   "execution_count": 15,
   "id": "06c1a7f7",
   "metadata": {},
   "outputs": [
    {
     "data": {
      "text/plain": [
       "Text(0, 0.5, 'SNR,dB')"
      ]
     },
     "execution_count": 15,
     "metadata": {},
     "output_type": "execute_result"
    },
    {
     "data": {
      "image/png": "[encoded data removed]",
      "text/plain": [
       "<Figure size 640x480 with 1 Axes>"
      ]
     },
     "metadata": {},
     "output_type": "display_data"
    }
   ],
   "source": [
    "plt.grid()\n",
    "plt.plot(df[\"deltaf\"],df[\"snr\"], 'bo')\n",
    "plt.xlabel(\"Frequency distance of closest interfer (Ghz)\")\n",
    "plt.ylabel(\"SNR,dB\")"
   ]
  },
  {
   "cell_type": "code",
   "execution_count": 16,
   "id": "223ed3f1",
   "metadata": {},
   "outputs": [
    {
     "data": {
      "text/plain": [
       "Text(0, 0.5, 'SNR,dB')"
      ]
     },
     "execution_count": 16,
     "metadata": {},
     "output_type": "execute_result"
    },
    {
     "data": {
      "image/png": "[encoded data removed]",
      "text/plain": [
       "<Figure size 640x480 with 1 Axes>"
      ]
     },
     "metadata": {},
     "output_type": "display_data"
    }
   ],
   "source": [
    "plt.grid()\n",
    "plt.plot(ligth_array,df[\"snr\"], 'bo')\n",
    "plt.xlabel(\"Ligthpath length [km]\")\n",
    "plt.ylabel(\"SNR,dB\")"
   ]
  },
  {
   "cell_type": "code",
   "execution_count": 17,
   "id": "e93e9448",
   "metadata": {},
   "outputs": [
    {
     "data": {
      "text/plain": [
       "Text(0, 0.5, 'SNR,dB')"
      ]
     },
     "execution_count": 17,
     "metadata": {},
     "output_type": "execute_result"
    },
    {
     "data": {
      "image/png": "[encoded data removed]",
      "text/plain": [
       "<Figure size 640x480 with 1 Axes>"
      ]
     },
     "metadata": {},
     "output_type": "display_data"
    }
   ],
   "source": [
    "plt.grid()\n",
    "plt.plot(span_array,df[\"snr\"], 'bo')\n",
    "plt.xlabel(\"Number of fiber spans\")\n",
    "plt.ylabel(\"SNR,dB\")"
   ]
  },
  {
   "cell_type": "markdown",
   "id": "832572a6",
   "metadata": {},
   "source": [
    "# 3.0 REGRESSION ALGORITHM"
   ]
  },
  {
   "cell_type": "markdown",
   "id": "bd04c6e7",
   "metadata": {},
   "source": [
    "We aim at predicting the possible mobile format for a given candidate lightpath. The first way is the following:\n",
    "We'll predict SNR with lineare regression and the map the MF\n"
   ]
  },
  {
   "cell_type": "markdown",
   "id": "f4b7e69f",
   "metadata": {},
   "source": [
    "We create two new columns in which we put the total length lighpath and the number of amplifier that we travers, and we drop the span columns"
   ]
  },
  {
   "cell_type": "code",
   "execution_count": 18,
   "id": "b00b4375",
   "metadata": {},
   "outputs": [],
   "source": [
    "df[\"total_lightpath_length\"]=ligth_array\n",
    "df[\"number of span\"]=span_array\n",
    "df=df.drop(columns=['span'])\n",
    "df.head()\n",
    "df1=df.copy()"
   ]
  },
  {
   "cell_type": "code",
   "execution_count": 19,
   "id": "9fdd179a",
   "metadata": {},
   "outputs": [],
   "source": [
    "def mapping(snr_array):\n",
    "    r=snr_array\n",
    "    p=[]\n",
    "    for i in range(len(r)):\n",
    "        if(r[i]>=11 and r[i]<15):\n",
    "            p.append(\"QPSK\")\n",
    "        elif(r[i]>=15 and r[i]<18):\n",
    "            p.append(\"8QAM\")\n",
    "        elif(r[i]>=18 and r[i]<20.8):\n",
    "            p.append(\"16QAM\")\n",
    "        elif(r[i]>=20.8 and r[i]<23.7):\n",
    "            p.append(\"32QAM\")\n",
    "        else:\n",
    "            p.append(\"64QAM\")\n",
    "    return p"
   ]
  },
  {
   "cell_type": "code",
   "execution_count": 20,
   "id": "3c456a9d",
   "metadata": {},
   "outputs": [],
   "source": [
    "features=['total_lightpath_length','interfers','deltaf','number of span']\n",
    "X=df[features]\n",
    "y=df[\"snr\"]"
   ]
  },
  {
   "cell_type": "code",
   "execution_count": 21,
   "id": "39bfc440",
   "metadata": {},
   "outputs": [],
   "source": [
    "from sklearn.model_selection import train_test_split\n",
    "\n",
    "X_train, X_test, y_train, y_test = train_test_split(X, y, test_size=0.2, random_state=0)"
   ]
  },
  {
   "cell_type": "code",
   "execution_count": 22,
   "id": "14d7530b",
   "metadata": {},
   "outputs": [],
   "source": [
    "from sklearn.preprocessing import StandardScaler\n",
    "\n",
    "sc = StandardScaler()\n",
    "X_train = sc.fit_transform(X_train)\n",
    "X_test = sc.transform(X_test)"
   ]
  },
  {
   "cell_type": "code",
   "execution_count": 23,
   "id": "3b9d0c3f",
   "metadata": {},
   "outputs": [],
   "source": [
    "from sklearn.ensemble import RandomForestRegressor\n",
    "\n",
    "regressor = RandomForestRegressor(n_estimators=20, random_state=0)\n",
    "regressor.fit(X_train, y_train)\n",
    "y_pred = regressor.predict(X_test)"
   ]
  },
  {
   "cell_type": "markdown",
   "id": "faddf1d0",
   "metadata": {},
   "source": [
    "MAPPING\n",
    "\n",
    "SNR      MF\n",
    "11dB     QPSK\n",
    "15dB     8QAM\n",
    "18dB     16QAM\n",
    "20.8dB   32QAM\n",
    "23.7dB   64QAM"
   ]
  },
  {
   "cell_type": "code",
   "execution_count": 24,
   "id": "3f1784da",
   "metadata": {},
   "outputs": [],
   "source": [
    "MF_prediction=mapping(y_pred)"
   ]
  },
  {
   "cell_type": "markdown",
   "id": "defac281",
   "metadata": {},
   "source": [
    "# 3.1.0 Metrics for evaluating my model"
   ]
  },
  {
   "cell_type": "markdown",
   "id": "25a13ba1",
   "metadata": {},
   "source": [
    "# 3.1.1 MSE(Mean Square Error)"
   ]
  },
  {
   "cell_type": "markdown",
   "id": "2968ff7d",
   "metadata": {},
   "source": [
    "It measure the average squared difference between the estimated value and the true value. Values close to zero are better. "
   ]
  },
  {
   "cell_type": "markdown",
   "id": "5885e4dd",
   "metadata": {},
   "source": [
    "First: We identify the index of X test for collecting the real value of Y, and then we compare the "
   ]
  },
  {
   "cell_type": "code",
   "execution_count": 25,
   "id": "29b683a3",
   "metadata": {},
   "outputs": [
    {
     "name": "stdout",
     "output_type": "stream",
     "text": [
      "0.07968786544032186\n"
     ]
    }
   ],
   "source": [
    "from sklearn.metrics import mean_squared_error\n",
    "mse=mean_squared_error(y_test,y_pred)\n",
    "print(mse)"
   ]
  },
  {
   "cell_type": "markdown",
   "id": "aa52c7c7",
   "metadata": {},
   "source": [
    "# 3.1.2 RMSE(Root Mean Square Error)"
   ]
  },
  {
   "cell_type": "markdown",
   "id": "3e2432e6",
   "metadata": {},
   "source": [
    "Measure the efficiency of the model. "
   ]
  },
  {
   "cell_type": "code",
   "execution_count": 26,
   "id": "dfeae7cd",
   "metadata": {},
   "outputs": [
    {
     "name": "stdout",
     "output_type": "stream",
     "text": [
      "0.2822903920439409\n"
     ]
    }
   ],
   "source": [
    "rmse=math.sqrt(mse)\n",
    "print(rmse)"
   ]
  },
  {
   "cell_type": "markdown",
   "id": "c3e41a0a",
   "metadata": {},
   "source": [
    "# 3.1.3 MAE(Mean Absolute Error)"
   ]
  },
  {
   "cell_type": "code",
   "execution_count": 27,
   "id": "a76e7a49",
   "metadata": {},
   "outputs": [
    {
     "name": "stdout",
     "output_type": "stream",
     "text": [
      "0.19840238365539478\n"
     ]
    }
   ],
   "source": [
    "from sklearn.metrics import mean_absolute_error\n",
    "mae=mean_absolute_error(y_test,y_pred)\n",
    "print(mae)"
   ]
  },
  {
   "cell_type": "markdown",
   "id": "00152525",
   "metadata": {},
   "source": [
    "# 4.0 CLASSIFICATION ALGORITHM"
   ]
  },
  {
   "cell_type": "markdown",
   "id": "ab0bb84d",
   "metadata": {},
   "source": [
    "In this case we want to predict the Modulation format directly and then use a ML classifier to make the prediction. \n"
   ]
  },
  {
   "cell_type": "code",
   "execution_count": 28,
   "id": "1490de02",
   "metadata": {},
   "outputs": [
    {
     "data": {
      "text/html": [
       "<div>\n",
       "<style scoped>\n",
       "    .dataframe tbody tr th:only-of-type {\n",
       "        vertical-align: middle;\n",
       "    }\n",
       "\n",
       "    .dataframe tbody tr th {\n",
       "        vertical-align: top;\n",
       "    }\n",
       "\n",
       "    .dataframe thead th {\n",
       "        text-align: right;\n",
       "    }\n",
       "</style>\n",
       "<table border=\"1\" class=\"dataframe\">\n",
       "  <thead>\n",
       "    <tr style=\"text-align: right;\">\n",
       "      <th></th>\n",
       "      <th>interfers</th>\n",
       "      <th>deltaf</th>\n",
       "      <th>snr</th>\n",
       "      <th>total_lightpath_length</th>\n",
       "      <th>number of span</th>\n",
       "    </tr>\n",
       "  </thead>\n",
       "  <tbody>\n",
       "    <tr>\n",
       "      <th>0</th>\n",
       "      <td>5</td>\n",
       "      <td>50.0129</td>\n",
       "      <td>21.4016</td>\n",
       "      <td>300</td>\n",
       "      <td>5</td>\n",
       "    </tr>\n",
       "    <tr>\n",
       "      <th>1</th>\n",
       "      <td>14</td>\n",
       "      <td>50.0129</td>\n",
       "      <td>21.7621</td>\n",
       "      <td>200</td>\n",
       "      <td>3</td>\n",
       "    </tr>\n",
       "    <tr>\n",
       "      <th>2</th>\n",
       "      <td>17</td>\n",
       "      <td>50.0129</td>\n",
       "      <td>19.3127</td>\n",
       "      <td>750</td>\n",
       "      <td>15</td>\n",
       "    </tr>\n",
       "    <tr>\n",
       "      <th>3</th>\n",
       "      <td>29</td>\n",
       "      <td>50.0129</td>\n",
       "      <td>21.0628</td>\n",
       "      <td>350</td>\n",
       "      <td>5</td>\n",
       "    </tr>\n",
       "    <tr>\n",
       "      <th>4</th>\n",
       "      <td>9</td>\n",
       "      <td>50.0129</td>\n",
       "      <td>21.2568</td>\n",
       "      <td>350</td>\n",
       "      <td>5</td>\n",
       "    </tr>\n",
       "  </tbody>\n",
       "</table>\n",
       "</div>"
      ],
      "text/plain": [
       "   interfers   deltaf      snr  total_lightpath_length  number of span\n",
       "0          5  50.0129  21.4016                     300               5\n",
       "1         14  50.0129  21.7621                     200               3\n",
       "2         17  50.0129  19.3127                     750              15\n",
       "3         29  50.0129  21.0628                     350               5\n",
       "4          9  50.0129  21.2568                     350               5"
      ]
     },
     "execution_count": 28,
     "metadata": {},
     "output_type": "execute_result"
    }
   ],
   "source": [
    "df1[\"MF\"]=mapping(df1[\"snr\"])\n",
    "df.head()"
   ]
  },
  {
   "cell_type": "markdown",
   "id": "f95e75e3",
   "metadata": {},
   "source": [
    "Since MF is our label but it is categorical, i map it in a numerical formato"
   ]
  },
  {
   "cell_type": "code",
   "execution_count": 29,
   "id": "07b2fe2f",
   "metadata": {},
   "outputs": [
    {
     "data": {
      "text/html": [
       "<div>\n",
       "<style scoped>\n",
       "    .dataframe tbody tr th:only-of-type {\n",
       "        vertical-align: middle;\n",
       "    }\n",
       "\n",
       "    .dataframe tbody tr th {\n",
       "        vertical-align: top;\n",
       "    }\n",
       "\n",
       "    .dataframe thead th {\n",
       "        text-align: right;\n",
       "    }\n",
       "</style>\n",
       "<table border=\"1\" class=\"dataframe\">\n",
       "  <thead>\n",
       "    <tr style=\"text-align: right;\">\n",
       "      <th></th>\n",
       "      <th>interfers</th>\n",
       "      <th>deltaf</th>\n",
       "      <th>snr</th>\n",
       "      <th>total_lightpath_length</th>\n",
       "      <th>number of span</th>\n",
       "      <th>MF</th>\n",
       "    </tr>\n",
       "  </thead>\n",
       "  <tbody>\n",
       "    <tr>\n",
       "      <th>0</th>\n",
       "      <td>5</td>\n",
       "      <td>50.0129</td>\n",
       "      <td>21.4016</td>\n",
       "      <td>300</td>\n",
       "      <td>5</td>\n",
       "      <td>3</td>\n",
       "    </tr>\n",
       "    <tr>\n",
       "      <th>1</th>\n",
       "      <td>14</td>\n",
       "      <td>50.0129</td>\n",
       "      <td>21.7621</td>\n",
       "      <td>200</td>\n",
       "      <td>3</td>\n",
       "      <td>3</td>\n",
       "    </tr>\n",
       "    <tr>\n",
       "      <th>2</th>\n",
       "      <td>17</td>\n",
       "      <td>50.0129</td>\n",
       "      <td>19.3127</td>\n",
       "      <td>750</td>\n",
       "      <td>15</td>\n",
       "      <td>2</td>\n",
       "    </tr>\n",
       "    <tr>\n",
       "      <th>3</th>\n",
       "      <td>29</td>\n",
       "      <td>50.0129</td>\n",
       "      <td>21.0628</td>\n",
       "      <td>350</td>\n",
       "      <td>5</td>\n",
       "      <td>3</td>\n",
       "    </tr>\n",
       "    <tr>\n",
       "      <th>4</th>\n",
       "      <td>9</td>\n",
       "      <td>50.0129</td>\n",
       "      <td>21.2568</td>\n",
       "      <td>350</td>\n",
       "      <td>5</td>\n",
       "      <td>3</td>\n",
       "    </tr>\n",
       "  </tbody>\n",
       "</table>\n",
       "</div>"
      ],
      "text/plain": [
       "   interfers   deltaf      snr  total_lightpath_length  number of span  MF\n",
       "0          5  50.0129  21.4016                     300               5   3\n",
       "1         14  50.0129  21.7621                     200               3   3\n",
       "2         17  50.0129  19.3127                     750              15   2\n",
       "3         29  50.0129  21.0628                     350               5   3\n",
       "4          9  50.0129  21.2568                     350               5   3"
      ]
     },
     "execution_count": 29,
     "metadata": {},
     "output_type": "execute_result"
    }
   ],
   "source": [
    "df1=df1.replace([\"QPSK\",\"8QAM\",\"16QAM\",\"32QAM\",\"64QAM\"],[0,1,2,3,4])\n",
    "df1.head()"
   ]
  },
  {
   "cell_type": "code",
   "execution_count": 30,
   "id": "11fbf2f0",
   "metadata": {},
   "outputs": [],
   "source": [
    "features=['total_lightpath_length','interfers','deltaf','number of span','snr']\n",
    "X1=df1[features]\n",
    "y1=df1[\"MF\"]"
   ]
  },
  {
   "cell_type": "code",
   "execution_count": 31,
   "id": "2cf387ed",
   "metadata": {},
   "outputs": [],
   "source": [
    "from sklearn.ensemble import RandomForestClassifier\n",
    "X_train_1, X_test_1, y_train_1, y_test_1 = train_test_split(X1, y1, test_size=0.2, random_state=0)\n",
    "sc1 = StandardScaler()\n",
    "X_train_1 = sc.fit_transform(X_train_1)\n",
    "X_test_1 = sc.transform(X_test_1)\n",
    "classifier = RandomForestClassifier(n_estimators=20, random_state=0)\n",
    "classifier.fit(X_train_1, y_train_1)\n",
    "y_pred_1 = classifier.predict(X_test_1)"
   ]
  },
  {
   "cell_type": "code",
   "execution_count": 32,
   "id": "b3a0b8e9",
   "metadata": {},
   "outputs": [
    {
     "data": {
      "text/plain": [
       "array([2, 2, 1, 0, 2, 3, 1, 1, 0, 2, 1, 3, 3, 2, 1, 1, 2, 3, 1, 2, 1, 2,\n",
       "       2, 2, 2, 2, 2, 1, 0, 1, 2, 1, 3, 2, 2, 2, 1, 1, 3, 2, 1, 2, 1, 1,\n",
       "       1, 1, 1, 2, 1, 2, 2, 2, 2, 3, 2, 2, 1, 2, 2, 1, 0, 1, 1, 2, 2, 1,\n",
       "       1, 3, 1, 3, 2, 2, 2, 2, 2, 3, 2, 1, 2, 2, 1, 2, 0, 1, 2, 1, 2, 2,\n",
       "       2, 3, 3, 3, 1, 2, 2, 1, 0, 2, 2, 1, 2, 2, 1, 2, 2, 0, 2, 2, 2, 2,\n",
       "       3, 2, 2, 1, 2, 2, 1, 2, 2, 2, 2, 3, 2, 2, 2, 1, 2, 2, 2, 0, 2, 2,\n",
       "       0, 2, 1, 3, 0, 2, 2, 2, 3, 1, 1, 2, 1, 2, 1, 2, 2, 1, 2, 1, 0, 2,\n",
       "       2, 2, 1, 1, 2, 2, 2, 2, 1, 0, 2, 1, 3, 2, 2, 2, 0, 3, 2, 1, 1, 1,\n",
       "       1, 2, 3, 3, 0, 2, 1, 1, 2, 2, 2, 3, 3, 2, 2, 2, 1, 2, 2, 1, 2, 2,\n",
       "       2, 2, 1, 2, 3, 2, 3, 2, 2], dtype=int64)"
      ]
     },
     "execution_count": 32,
     "metadata": {},
     "output_type": "execute_result"
    }
   ],
   "source": [
    "y_pred_1"
   ]
  },
  {
   "cell_type": "code",
   "execution_count": 33,
   "id": "e50c7e8d",
   "metadata": {},
   "outputs": [],
   "source": [
    "def mapping_new(y_pred):\n",
    "    p=[]\n",
    "    for i in range(len(y_pred)):\n",
    "        if(y_pred[i]==0):\n",
    "            p.append(\"QPSK\")\n",
    "        elif(y_pred[i]==1):\n",
    "            p.append(\"8QAM\")\n",
    "        elif(y_pred[i]==2):\n",
    "            p.append(\"16QAM\")\n",
    "        elif(y_pred[i]==3):\n",
    "            p.append(\"32QAM\")\n",
    "        else:\n",
    "            p.append(\"64QAM\")\n",
    "    \n",
    "    return p\n",
    "        "
   ]
  },
  {
   "cell_type": "code",
   "execution_count": 34,
   "id": "0f77f6d9",
   "metadata": {},
   "outputs": [
    {
     "data": {
      "text/plain": [
       "['16QAM',\n",
       " '16QAM',\n",
       " '8QAM',\n",
       " 'QPSK',\n",
       " '16QAM',\n",
       " '32QAM',\n",
       " '8QAM',\n",
       " '8QAM',\n",
       " 'QPSK',\n",
       " '16QAM',\n",
       " '8QAM',\n",
       " '32QAM',\n",
       " '32QAM',\n",
       " '16QAM',\n",
       " '8QAM',\n",
       " '8QAM',\n",
       " '16QAM',\n",
       " '32QAM',\n",
       " '8QAM',\n",
       " '16QAM',\n",
       " '8QAM',\n",
       " '16QAM',\n",
       " '16QAM',\n",
       " '16QAM',\n",
       " '16QAM',\n",
       " '16QAM',\n",
       " '16QAM',\n",
       " '8QAM',\n",
       " 'QPSK',\n",
       " '8QAM',\n",
       " '16QAM',\n",
       " '8QAM',\n",
       " '32QAM',\n",
       " '16QAM',\n",
       " '16QAM',\n",
       " '16QAM',\n",
       " '8QAM',\n",
       " '8QAM',\n",
       " '32QAM',\n",
       " '16QAM',\n",
       " '8QAM',\n",
       " '16QAM',\n",
       " '8QAM',\n",
       " '8QAM',\n",
       " '8QAM',\n",
       " '8QAM',\n",
       " '8QAM',\n",
       " '16QAM',\n",
       " '8QAM',\n",
       " '16QAM',\n",
       " '16QAM',\n",
       " '16QAM',\n",
       " '16QAM',\n",
       " '32QAM',\n",
       " '16QAM',\n",
       " '16QAM',\n",
       " '8QAM',\n",
       " '16QAM',\n",
       " '16QAM',\n",
       " '8QAM',\n",
       " 'QPSK',\n",
       " '8QAM',\n",
       " '8QAM',\n",
       " '16QAM',\n",
       " '16QAM',\n",
       " '8QAM',\n",
       " '8QAM',\n",
       " '32QAM',\n",
       " '8QAM',\n",
       " '32QAM',\n",
       " '16QAM',\n",
       " '16QAM',\n",
       " '16QAM',\n",
       " '16QAM',\n",
       " '16QAM',\n",
       " '32QAM',\n",
       " '16QAM',\n",
       " '8QAM',\n",
       " '16QAM',\n",
       " '16QAM',\n",
       " '8QAM',\n",
       " '16QAM',\n",
       " 'QPSK',\n",
       " '8QAM',\n",
       " '16QAM',\n",
       " '8QAM',\n",
       " '16QAM',\n",
       " '16QAM',\n",
       " '16QAM',\n",
       " '32QAM',\n",
       " '32QAM',\n",
       " '32QAM',\n",
       " '8QAM',\n",
       " '16QAM',\n",
       " '16QAM',\n",
       " '8QAM',\n",
       " 'QPSK',\n",
       " '16QAM',\n",
       " '16QAM',\n",
       " '8QAM',\n",
       " '16QAM',\n",
       " '16QAM',\n",
       " '8QAM',\n",
       " '16QAM',\n",
       " '16QAM',\n",
       " 'QPSK',\n",
       " '16QAM',\n",
       " '16QAM',\n",
       " '16QAM',\n",
       " '16QAM',\n",
       " '32QAM',\n",
       " '16QAM',\n",
       " '16QAM',\n",
       " '8QAM',\n",
       " '16QAM',\n",
       " '16QAM',\n",
       " '8QAM',\n",
       " '16QAM',\n",
       " '16QAM',\n",
       " '16QAM',\n",
       " '16QAM',\n",
       " '32QAM',\n",
       " '16QAM',\n",
       " '16QAM',\n",
       " '16QAM',\n",
       " '8QAM',\n",
       " '16QAM',\n",
       " '16QAM',\n",
       " '16QAM',\n",
       " 'QPSK',\n",
       " '16QAM',\n",
       " '16QAM',\n",
       " 'QPSK',\n",
       " '16QAM',\n",
       " '8QAM',\n",
       " '32QAM',\n",
       " 'QPSK',\n",
       " '16QAM',\n",
       " '16QAM',\n",
       " '16QAM',\n",
       " '32QAM',\n",
       " '8QAM',\n",
       " '8QAM',\n",
       " '16QAM',\n",
       " '8QAM',\n",
       " '16QAM',\n",
       " '8QAM',\n",
       " '16QAM',\n",
       " '16QAM',\n",
       " '8QAM',\n",
       " '16QAM',\n",
       " '8QAM',\n",
       " 'QPSK',\n",
       " '16QAM',\n",
       " '16QAM',\n",
       " '16QAM',\n",
       " '8QAM',\n",
       " '8QAM',\n",
       " '16QAM',\n",
       " '16QAM',\n",
       " '16QAM',\n",
       " '16QAM',\n",
       " '8QAM',\n",
       " 'QPSK',\n",
       " '16QAM',\n",
       " '8QAM',\n",
       " '32QAM',\n",
       " '16QAM',\n",
       " '16QAM',\n",
       " '16QAM',\n",
       " 'QPSK',\n",
       " '32QAM',\n",
       " '16QAM',\n",
       " '8QAM',\n",
       " '8QAM',\n",
       " '8QAM',\n",
       " '8QAM',\n",
       " '16QAM',\n",
       " '32QAM',\n",
       " '32QAM',\n",
       " 'QPSK',\n",
       " '16QAM',\n",
       " '8QAM',\n",
       " '8QAM',\n",
       " '16QAM',\n",
       " '16QAM',\n",
       " '16QAM',\n",
       " '32QAM',\n",
       " '32QAM',\n",
       " '16QAM',\n",
       " '16QAM',\n",
       " '16QAM',\n",
       " '8QAM',\n",
       " '16QAM',\n",
       " '16QAM',\n",
       " '8QAM',\n",
       " '16QAM',\n",
       " '16QAM',\n",
       " '16QAM',\n",
       " '16QAM',\n",
       " '8QAM',\n",
       " '16QAM',\n",
       " '32QAM',\n",
       " '16QAM',\n",
       " '32QAM',\n",
       " '16QAM',\n",
       " '16QAM']"
      ]
     },
     "execution_count": 34,
     "metadata": {},
     "output_type": "execute_result"
    }
   ],
   "source": [
    "#y_pred_1.astype(int)\n",
    "y_pred_MF=mapping_new(y_pred_1)\n",
    "y_pred_MF"
   ]
  },
  {
   "cell_type": "markdown",
   "id": "509f3c17",
   "metadata": {},
   "source": [
    "At this point we can compute some metrics: Accuracy and Precision"
   ]
  },
  {
   "cell_type": "code",
   "execution_count": 35,
   "id": "ed5413ef",
   "metadata": {},
   "outputs": [
    {
     "name": "stdout",
     "output_type": "stream",
     "text": [
      "0.9951690821256038\n"
     ]
    }
   ],
   "source": [
    "from sklearn.metrics import accuracy_score\n",
    "from sklearn.metrics import confusion_matrix\n",
    "from sklearn.metrics import plot_confusion_matrix\n",
    "print(accuracy_score(y_test_1,y_pred_1))\n"
   ]
  },
  {
   "cell_type": "code",
   "execution_count": 36,
   "id": "1ecdcf86",
   "metadata": {},
   "outputs": [
    {
     "name": "stderr",
     "output_type": "stream",
     "text": [
      "c:\\Users\\danie\\AppData\\Local\\Programs\\Python\\Python310\\lib\\site-packages\\sklearn\\utils\\deprecation.py:87: FutureWarning: Function plot_confusion_matrix is deprecated; Function `plot_confusion_matrix` is deprecated in 1.0 and will be removed in 1.2. Use one of the class methods: ConfusionMatrixDisplay.from_predictions or ConfusionMatrixDisplay.from_estimator.\n",
      "  warnings.warn(msg, category=FutureWarning)\n"
     ]
    },
    {
     "data": {
      "text/plain": [
       "<sklearn.metrics._plot.confusion_matrix.ConfusionMatrixDisplay at 0x19fb80b98a0>"
      ]
     },
     "execution_count": 36,
     "metadata": {},
     "output_type": "execute_result"
    },
    {
     "data": {
      "image/png": "[encoded data removed]",
      "text/plain": [
       "<Figure size 640x480 with 2 Axes>"
      ]
     },
     "metadata": {},
     "output_type": "display_data"
    }
   ],
   "source": [
    "plot_confusion_matrix(classifier, X_test_1, y_test_1)  "
   ]
  },
  {
   "cell_type": "markdown",
   "id": "c261c05f",
   "metadata": {},
   "source": [
    "In this case the confusion matrix is 4x4, because we have 4 possible MF. How we can read it ? Focusing on label 0(QPSK) we have 14 values. All of them have been predicted correctly. For 16QAM(label 2), 110 values have been predicted correctly but 1 value has been predicted wrongly as 32QAM"
   ]
  },
  {
   "cell_type": "code",
   "execution_count": 37,
   "id": "e99a7966",
   "metadata": {},
   "outputs": [],
   "source": [
    "cnf_matrix = confusion_matrix(y_test_1, y_pred_1)"
   ]
  },
  {
   "cell_type": "code",
   "execution_count": 38,
   "id": "78d8b053",
   "metadata": {},
   "outputs": [],
   "source": [
    "FP = cnf_matrix.sum(axis=0) - np.diag(cnf_matrix) \n",
    "FN = cnf_matrix.sum(axis=1) - np.diag(cnf_matrix)\n",
    "TP = np.diag(cnf_matrix)\n",
    "TN = cnf_matrix.sum() - (FP + FN + TP)\n",
    "FP = FP.astype(float)\n",
    "FN = FN.astype(float)\n",
    "TP = TP.astype(float)\n",
    "TN = TN.astype(float)# Sensitivity, hit rate, recall, or true positive rate\n",
    "TPR = TP/(TP+FN)\n",
    "# Specificity or true negative rate\n",
    "TNR = TN/(TN+FP) \n",
    "# Precision or positive predictive value\n",
    "PPV = TP/(TP+FP)\n",
    "# Negative predictive value\n",
    "NPV = TN/(TN+FN)\n",
    "# Fall out or false positive rate\n",
    "FPR = FP/(FP+TN)\n",
    "# False negative rate\n",
    "FNR = FN/(TP+FN)\n",
    "# False discovery rate\n",
    "FDR = FP/(TP+FP)\n",
    "# Overall accuracy for each class\n",
    "ACC = (TP+TN)/(TP+FP+FN+TN)"
   ]
  },
  {
   "cell_type": "code",
   "execution_count": 39,
   "id": "368d23b7",
   "metadata": {},
   "outputs": [
    {
     "name": "stdout",
     "output_type": "stream",
     "text": [
      "TPR:  [1.         1.         0.99099099 1.        ]\n",
      "TNR:  [1.         1.         1.         0.99453552]\n",
      "PPV:  [1.   1.   1.   0.96]\n",
      "NPV:  [1.         1.         0.98969072 1.        ]\n",
      "FPR:  [0.         0.         0.         0.00546448]\n",
      "FNR:  [0.         0.         0.00900901 0.        ]\n",
      "FDR:  [0.   0.   0.   0.04]\n"
     ]
    }
   ],
   "source": [
    "print(\"TPR: \",TPR )\n",
    "print(\"TNR: \",TNR )\n",
    "print(\"PPV: \", PPV )\n",
    "print(\"NPV: \",NPV )\n",
    "print(\"FPR: \",FPR )\n",
    "print(\"FNR: \",FNR )\n",
    "print(\"FDR: \",FDR )"
   ]
  },
  {
   "cell_type": "markdown",
   "id": "30a19a5a",
   "metadata": {},
   "source": [
    "Precision"
   ]
  },
  {
   "cell_type": "code",
   "execution_count": 40,
   "id": "72cec0ee",
   "metadata": {},
   "outputs": [
    {
     "data": {
      "text/plain": [
       "array([1.  , 1.  , 1.  , 0.96])"
      ]
     },
     "execution_count": 40,
     "metadata": {},
     "output_type": "execute_result"
    }
   ],
   "source": [
    "precision=(TP)/(TP+FP)\n",
    "precision"
   ]
  },
  {
   "cell_type": "markdown",
   "id": "5d952631",
   "metadata": {},
   "source": [
    "Recall"
   ]
  },
  {
   "cell_type": "code",
   "execution_count": 41,
   "id": "a6fc4d02",
   "metadata": {},
   "outputs": [
    {
     "data": {
      "text/plain": [
       "array([1.        , 1.        , 0.99099099, 1.        ])"
      ]
     },
     "execution_count": 41,
     "metadata": {},
     "output_type": "execute_result"
    }
   ],
   "source": [
    "recall=(TP)/(TP+FN)\n",
    "recall"
   ]
  },
  {
   "cell_type": "markdown",
   "id": "e3cb3665",
   "metadata": {},
   "source": [
    "F1 score"
   ]
  },
  {
   "cell_type": "code",
   "execution_count": 42,
   "id": "30ab4ca6",
   "metadata": {},
   "outputs": [
    {
     "data": {
      "text/plain": [
       "array([3.        , 3.        , 2.97297297, 3.        ])"
      ]
     },
     "execution_count": 42,
     "metadata": {},
     "output_type": "execute_result"
    }
   ],
   "source": [
    "F1=2*precision*(recall/precision)+recall\n",
    "F1"
   ]
  }
 ],
 "metadata": {
  "kernelspec": {
   "display_name": "Python 3.10.8 64-bit",
   "language": "python",
   "name": "python3"
  },
  "language_info": {
   "codemirror_mode": {
    "name": "ipython",
    "version": 3
   },
   "file_extension": ".py",
   "mimetype": "text/x-python",
   "name": "python",
   "nbconvert_exporter": "python",
   "pygments_lexer": "ipython3",
   "version": "3.10.8"
  },
  "vscode": {
   "interpreter": {
    "hash": "0f2f6c680cf484319d387fabac80ca4ff4fc33965036e02100b3fe02600f1423"
   }
  }
 },
 "nbformat": 4,
 "nbformat_minor": 5
}
